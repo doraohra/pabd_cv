{
 "cells": [
  {
   "cell_type": "code",
   "execution_count": 1,
   "metadata": {
    "colab": {
     "base_uri": "https://localhost:8080/"
    },
    "id": "C-9WmmEZhvyh",
    "outputId": "632a2cc8-9ed3-478b-b0b5-22220e00b69a"
   },
   "outputs": [
    {
     "name": "stderr",
     "output_type": "stream",
     "text": [
      "Cloning into 'pabd_cv'...\n"
     ]
    }
   ],
   "source": [
    "%%bash \n",
    "rm -rf pabd_cv\n",
    "git clone https://github.com/doraohra/pabd_cv"
   ]
  },
  {
   "cell_type": "code",
   "execution_count": 2,
   "metadata": {
    "colab": {
     "base_uri": "https://localhost:8080/"
    },
    "id": "g1Aj3WOFhwno",
    "outputId": "8d0e86f2-92c7-4b9e-cb00-b385e30ecbf0"
   },
   "outputs": [
    {
     "name": "stdout",
     "output_type": "stream",
     "text": [
      "/content/pabd_cv\n"
     ]
    }
   ],
   "source": [
    "%cd pabd_cv"
   ]
  },
  {
   "cell_type": "code",
   "execution_count": null,
   "metadata": {
    "id": "EWRyoCICkX7K"
   },
   "outputs": [],
   "source": [
    "%%bash\n",
    "cp ../drive/MyDrive/pabd_cv/train.zip .\n",
    "unzip train.zip \n",
    "mv train data/raw/kaggle"
   ]
  },
  {
   "cell_type": "code",
   "execution_count": null,
   "metadata": {
    "id": "Nuuv99s_lEwp"
   },
   "outputs": [],
   "source": [
    "! python src/process_data.py -n -1"
   ]
  },
  {
   "cell_type": "code",
   "execution_count": null,
   "metadata": {
    "id": "xyJPYLnlljoQ"
   },
   "outputs": [],
   "source": [
    "! python src/train.py -e 1"
   ]
  },
  {
   "cell_type": "code",
   "execution_count": 11,
   "metadata": {
    "colab": {
     "base_uri": "https://localhost:8080/"
    },
    "id": "HuGXiPCTuRJz",
    "outputId": "6af7660e-7eb5-4f27-9712-bca7872825e3"
   },
   "outputs": [
    {
     "name": "stdout",
     "output_type": "stream",
     "text": [
      "  adding: models/my_model/ (stored 0%)\n",
      "  adding: models/my_model/variables/ (stored 0%)\n",
      "  adding: models/my_model/variables/variables.data-00000-of-00001 (deflated 7%)\n",
      "  adding: models/my_model/variables/variables.index (deflated 77%)\n",
      "  adding: models/my_model/assets/ (stored 0%)\n",
      "  adding: models/my_model/fingerprint.pb (stored 0%)\n",
      "  adding: models/my_model/saved_model.pb (deflated 90%)\n",
      "  adding: models/my_model/keras_metadata.pb (deflated 94%)\n"
     ]
    }
   ],
   "source": [
    "! zip -r model.zip models/my_model"
   ]
  }
 ],
 "metadata": {
  "accelerator": "GPU",
  "colab": {
   "gpuType": "T4",
   "provenance": []
  },
  "kernelspec": {
   "display_name": "Python 3 (ipykernel)",
   "language": "python",
   "name": "python3"
  },
  "language_info": {
   "codemirror_mode": {
    "name": "ipython",
    "version": 3
   },
   "file_extension": ".py",
   "mimetype": "text/x-python",
   "name": "python",
   "nbconvert_exporter": "python",
   "pygments_lexer": "ipython3",
   "version": "3.9.7"
  }
 },
 "nbformat": 4,
 "nbformat_minor": 1
}
